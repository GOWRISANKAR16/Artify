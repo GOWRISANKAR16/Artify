{
  "cells": [
    {
      "cell_type": "code",
      "source": [],
      "metadata": {
        "id": "NTOWJKiMuzzV"
      },
      "execution_count": null,
      "outputs": []
    },
    {
      "cell_type": "markdown",
      "metadata": {
        "id": "mnLsJYvDvJZc"
      },
      "source": [
        "Feel free to experiment with various different prompts here:"
      ]
    },
    {
      "cell_type": "markdown",
      "metadata": {
        "id": "KBV0l-TmuujL"
      },
      "source": [
        "Feel free to experiment with various different prompts here:"
      ]
    }
  ],
  "metadata": {
    "kernelspec": {
      "display_name": "rlhf_tutorial",
      "language": "python",
      "name": "python3"
    },
    "language_info": {
      "codemirror_mode": {
        "name": "ipython",
        "version": 3
      },
      "file_extension": ".py",
      "mimetype": "text/x-python",
      "name": "python",
      "nbconvert_exporter": "python",
      "pygments_lexer": "ipython3",
      "version": "3.8.17"
    },
    "colab": {
      "provenance": []
    }
  },
  "nbformat": 4,
  "nbformat_minor": 0
}